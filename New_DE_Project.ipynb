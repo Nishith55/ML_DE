{
 "cells": [
  {
   "cell_type": "markdown",
   "id": "8dc9864d",
   "metadata": {},
   "source": [
    "## DE Project \n"
   ]
  },
  {
   "cell_type": "code",
   "execution_count": 1,
   "id": "d7df9993",
   "metadata": {},
   "outputs": [],
   "source": [
    "import pandas as pd"
   ]
  },
  {
   "cell_type": "code",
   "execution_count": 2,
   "id": "40a2744f",
   "metadata": {},
   "outputs": [],
   "source": [
    "solar = pd.read_csv(\"ProTwo.csv\")"
   ]
  },
  {
   "cell_type": "code",
   "execution_count": 3,
   "id": "ff83d574",
   "metadata": {},
   "outputs": [
    {
     "data": {
      "text/html": [
       "<div>\n",
       "<style scoped>\n",
       "    .dataframe tbody tr th:only-of-type {\n",
       "        vertical-align: middle;\n",
       "    }\n",
       "\n",
       "    .dataframe tbody tr th {\n",
       "        vertical-align: top;\n",
       "    }\n",
       "\n",
       "    .dataframe thead th {\n",
       "        text-align: right;\n",
       "    }\n",
       "</style>\n",
       "<table border=\"1\" class=\"dataframe\">\n",
       "  <thead>\n",
       "    <tr style=\"text-align: right;\">\n",
       "      <th></th>\n",
       "      <th>System Size(KWp)</th>\n",
       "      <th>EB Tariff(RS/kwh)</th>\n",
       "      <th>System Cost</th>\n",
       "      <th>Generation/efficiency</th>\n",
       "      <th>Asset Management Cost(Inr/kwp)</th>\n",
       "      <th>Commission In Time (Y)</th>\n",
       "      <th>PPA Tenure(Y)</th>\n",
       "      <th>IRR</th>\n",
       "      <th>Solar_price</th>\n",
       "    </tr>\n",
       "  </thead>\n",
       "  <tbody>\n",
       "    <tr>\n",
       "      <th>0</th>\n",
       "      <td>600.0</td>\n",
       "      <td>9.63</td>\n",
       "      <td>47136</td>\n",
       "      <td>1336</td>\n",
       "      <td>450.00</td>\n",
       "      <td>0.500</td>\n",
       "      <td>10</td>\n",
       "      <td>19.52</td>\n",
       "      <td>7.20</td>\n",
       "    </tr>\n",
       "    <tr>\n",
       "      <th>1</th>\n",
       "      <td>830.0</td>\n",
       "      <td>7.09</td>\n",
       "      <td>47043</td>\n",
       "      <td>1380</td>\n",
       "      <td>1100.00</td>\n",
       "      <td>0.500</td>\n",
       "      <td>25</td>\n",
       "      <td>17.31</td>\n",
       "      <td>5.30</td>\n",
       "    </tr>\n",
       "    <tr>\n",
       "      <th>2</th>\n",
       "      <td>100.0</td>\n",
       "      <td>9.54</td>\n",
       "      <td>46658</td>\n",
       "      <td>1462</td>\n",
       "      <td>862.60</td>\n",
       "      <td>0.333</td>\n",
       "      <td>15</td>\n",
       "      <td>15.13</td>\n",
       "      <td>5.20</td>\n",
       "    </tr>\n",
       "    <tr>\n",
       "      <th>3</th>\n",
       "      <td>1518.0</td>\n",
       "      <td>10.00</td>\n",
       "      <td>48399</td>\n",
       "      <td>1387</td>\n",
       "      <td>1144.27</td>\n",
       "      <td>0.500</td>\n",
       "      <td>25</td>\n",
       "      <td>16.59</td>\n",
       "      <td>4.90</td>\n",
       "    </tr>\n",
       "    <tr>\n",
       "      <th>4</th>\n",
       "      <td>102.0</td>\n",
       "      <td>16.76</td>\n",
       "      <td>55325</td>\n",
       "      <td>1387</td>\n",
       "      <td>2003.53</td>\n",
       "      <td>0.333</td>\n",
       "      <td>10</td>\n",
       "      <td>17.92</td>\n",
       "      <td>9.25</td>\n",
       "    </tr>\n",
       "  </tbody>\n",
       "</table>\n",
       "</div>"
      ],
      "text/plain": [
       "   System Size(KWp)  EB Tariff(RS/kwh)  System Cost  Generation/efficiency  \\\n",
       "0             600.0               9.63        47136                   1336   \n",
       "1             830.0               7.09        47043                   1380   \n",
       "2             100.0               9.54        46658                   1462   \n",
       "3            1518.0              10.00        48399                   1387   \n",
       "4             102.0              16.76        55325                   1387   \n",
       "\n",
       "   Asset Management Cost(Inr/kwp)  Commission In Time (Y)  PPA Tenure(Y)  \\\n",
       "0                          450.00                   0.500             10   \n",
       "1                         1100.00                   0.500             25   \n",
       "2                          862.60                   0.333             15   \n",
       "3                         1144.27                   0.500             25   \n",
       "4                         2003.53                   0.333             10   \n",
       "\n",
       "     IRR  Solar_price  \n",
       "0  19.52         7.20  \n",
       "1  17.31         5.30  \n",
       "2  15.13         5.20  \n",
       "3  16.59         4.90  \n",
       "4  17.92         9.25  "
      ]
     },
     "execution_count": 3,
     "metadata": {},
     "output_type": "execute_result"
    }
   ],
   "source": [
    "solar.head()"
   ]
  },
  {
   "cell_type": "code",
   "execution_count": 4,
   "id": "a4f95dd1",
   "metadata": {},
   "outputs": [
    {
     "name": "stdout",
     "output_type": "stream",
     "text": [
      "<class 'pandas.core.frame.DataFrame'>\n",
      "RangeIndex: 66 entries, 0 to 65\n",
      "Data columns (total 9 columns):\n",
      " #   Column                          Non-Null Count  Dtype  \n",
      "---  ------                          --------------  -----  \n",
      " 0   System Size(KWp)                66 non-null     float64\n",
      " 1   EB Tariff(RS/kwh)               66 non-null     float64\n",
      " 2   System Cost                     66 non-null     int64  \n",
      " 3   Generation/efficiency           66 non-null     int64  \n",
      " 4   Asset Management Cost(Inr/kwp)  66 non-null     float64\n",
      " 5   Commission In Time (Y)          66 non-null     float64\n",
      " 6   PPA Tenure(Y)                   66 non-null     int64  \n",
      " 7   IRR                             66 non-null     float64\n",
      " 8   Solar_price                     66 non-null     float64\n",
      "dtypes: float64(6), int64(3)\n",
      "memory usage: 4.8 KB\n"
     ]
    }
   ],
   "source": [
    "solar.info()"
   ]
  },
  {
   "cell_type": "code",
   "execution_count": 5,
   "id": "e0bb5933",
   "metadata": {},
   "outputs": [
    {
     "data": {
      "text/html": [
       "<div>\n",
       "<style scoped>\n",
       "    .dataframe tbody tr th:only-of-type {\n",
       "        vertical-align: middle;\n",
       "    }\n",
       "\n",
       "    .dataframe tbody tr th {\n",
       "        vertical-align: top;\n",
       "    }\n",
       "\n",
       "    .dataframe thead th {\n",
       "        text-align: right;\n",
       "    }\n",
       "</style>\n",
       "<table border=\"1\" class=\"dataframe\">\n",
       "  <thead>\n",
       "    <tr style=\"text-align: right;\">\n",
       "      <th></th>\n",
       "      <th>System Size(KWp)</th>\n",
       "      <th>EB Tariff(RS/kwh)</th>\n",
       "      <th>System Cost</th>\n",
       "      <th>Generation/efficiency</th>\n",
       "      <th>Asset Management Cost(Inr/kwp)</th>\n",
       "      <th>Commission In Time (Y)</th>\n",
       "      <th>PPA Tenure(Y)</th>\n",
       "      <th>IRR</th>\n",
       "      <th>Solar_price</th>\n",
       "    </tr>\n",
       "  </thead>\n",
       "  <tbody>\n",
       "    <tr>\n",
       "      <th>count</th>\n",
       "      <td>66.000000</td>\n",
       "      <td>66.000000</td>\n",
       "      <td>66.000000</td>\n",
       "      <td>66.000000</td>\n",
       "      <td>66.000000</td>\n",
       "      <td>66.000000</td>\n",
       "      <td>66.000000</td>\n",
       "      <td>66.000000</td>\n",
       "      <td>66.000000</td>\n",
       "    </tr>\n",
       "    <tr>\n",
       "      <th>mean</th>\n",
       "      <td>993.084091</td>\n",
       "      <td>10.821061</td>\n",
       "      <td>50778.075758</td>\n",
       "      <td>1373.469697</td>\n",
       "      <td>1060.348939</td>\n",
       "      <td>0.515136</td>\n",
       "      <td>15.409091</td>\n",
       "      <td>16.503788</td>\n",
       "      <td>6.640455</td>\n",
       "    </tr>\n",
       "    <tr>\n",
       "      <th>std</th>\n",
       "      <td>2554.699699</td>\n",
       "      <td>4.049853</td>\n",
       "      <td>7197.149843</td>\n",
       "      <td>80.084613</td>\n",
       "      <td>564.154879</td>\n",
       "      <td>0.137044</td>\n",
       "      <td>5.654072</td>\n",
       "      <td>1.880646</td>\n",
       "      <td>1.519540</td>\n",
       "    </tr>\n",
       "    <tr>\n",
       "      <th>min</th>\n",
       "      <td>21.800000</td>\n",
       "      <td>5.640000</td>\n",
       "      <td>40046.000000</td>\n",
       "      <td>1144.000000</td>\n",
       "      <td>141.500000</td>\n",
       "      <td>0.250000</td>\n",
       "      <td>7.000000</td>\n",
       "      <td>9.470000</td>\n",
       "      <td>4.200000</td>\n",
       "    </tr>\n",
       "    <tr>\n",
       "      <th>25%</th>\n",
       "      <td>119.250000</td>\n",
       "      <td>7.522500</td>\n",
       "      <td>46521.500000</td>\n",
       "      <td>1330.500000</td>\n",
       "      <td>600.000000</td>\n",
       "      <td>0.500000</td>\n",
       "      <td>10.000000</td>\n",
       "      <td>15.400000</td>\n",
       "      <td>5.547500</td>\n",
       "    </tr>\n",
       "    <tr>\n",
       "      <th>50%</th>\n",
       "      <td>217.500000</td>\n",
       "      <td>9.630000</td>\n",
       "      <td>49907.000000</td>\n",
       "      <td>1376.500000</td>\n",
       "      <td>1075.900000</td>\n",
       "      <td>0.500000</td>\n",
       "      <td>15.000000</td>\n",
       "      <td>16.795000</td>\n",
       "      <td>6.300000</td>\n",
       "    </tr>\n",
       "    <tr>\n",
       "      <th>75%</th>\n",
       "      <td>885.000000</td>\n",
       "      <td>14.855000</td>\n",
       "      <td>54654.750000</td>\n",
       "      <td>1420.500000</td>\n",
       "      <td>1157.367500</td>\n",
       "      <td>0.500000</td>\n",
       "      <td>20.000000</td>\n",
       "      <td>17.665000</td>\n",
       "      <td>7.875000</td>\n",
       "    </tr>\n",
       "    <tr>\n",
       "      <th>max</th>\n",
       "      <td>15000.000000</td>\n",
       "      <td>21.000000</td>\n",
       "      <td>76800.000000</td>\n",
       "      <td>1550.000000</td>\n",
       "      <td>3295.280000</td>\n",
       "      <td>1.000000</td>\n",
       "      <td>25.000000</td>\n",
       "      <td>21.520000</td>\n",
       "      <td>11.450000</td>\n",
       "    </tr>\n",
       "  </tbody>\n",
       "</table>\n",
       "</div>"
      ],
      "text/plain": [
       "       System Size(KWp)  EB Tariff(RS/kwh)   System Cost  \\\n",
       "count         66.000000          66.000000     66.000000   \n",
       "mean         993.084091          10.821061  50778.075758   \n",
       "std         2554.699699           4.049853   7197.149843   \n",
       "min           21.800000           5.640000  40046.000000   \n",
       "25%          119.250000           7.522500  46521.500000   \n",
       "50%          217.500000           9.630000  49907.000000   \n",
       "75%          885.000000          14.855000  54654.750000   \n",
       "max        15000.000000          21.000000  76800.000000   \n",
       "\n",
       "       Generation/efficiency  Asset Management Cost(Inr/kwp)  \\\n",
       "count              66.000000                       66.000000   \n",
       "mean             1373.469697                     1060.348939   \n",
       "std                80.084613                      564.154879   \n",
       "min              1144.000000                      141.500000   \n",
       "25%              1330.500000                      600.000000   \n",
       "50%              1376.500000                     1075.900000   \n",
       "75%              1420.500000                     1157.367500   \n",
       "max              1550.000000                     3295.280000   \n",
       "\n",
       "       Commission In Time (Y)  PPA Tenure(Y)        IRR  Solar_price  \n",
       "count               66.000000      66.000000  66.000000    66.000000  \n",
       "mean                 0.515136      15.409091  16.503788     6.640455  \n",
       "std                  0.137044       5.654072   1.880646     1.519540  \n",
       "min                  0.250000       7.000000   9.470000     4.200000  \n",
       "25%                  0.500000      10.000000  15.400000     5.547500  \n",
       "50%                  0.500000      15.000000  16.795000     6.300000  \n",
       "75%                  0.500000      20.000000  17.665000     7.875000  \n",
       "max                  1.000000      25.000000  21.520000    11.450000  "
      ]
     },
     "execution_count": 5,
     "metadata": {},
     "output_type": "execute_result"
    }
   ],
   "source": [
    "solar.describe()"
   ]
  },
  {
   "cell_type": "markdown",
   "id": "0c7e00c5",
   "metadata": {},
   "source": [
    "## Train-Test Splitting"
   ]
  },
  {
   "cell_type": "code",
   "execution_count": 6,
   "id": "5c3579b2",
   "metadata": {},
   "outputs": [],
   "source": [
    "import numpy as np\n",
    "def split_train_test(data, test_ratio):\n",
    "    np.random.seed(42)\n",
    "    shuffled = np.random.permutation(len(data))\n",
    "    print(shuffled)\n",
    "    test_set_size = int(len(data) * test_ratio)\n",
    "    test_indices = shuffled[:test_set_size]\n",
    "    train_indices = shuffled[test_set_size:] \n",
    "    return data.iloc[train_indices], data.iloc[test_indices]"
   ]
  },
  {
   "cell_type": "code",
   "execution_count": 7,
   "id": "5cea18c5",
   "metadata": {},
   "outputs": [
    {
     "name": "stdout",
     "output_type": "stream",
     "text": [
      "[54 62  0 45  5 63 16 12 65 30 33  9 41 13 34 25  3 17 40  8  6 28  4 48\n",
      " 36 19 56 59 58 50 31 44 64 15 27 26 24 47 11 32 61 46 37 29 43 49  1 21\n",
      "  2 53 39 35 52 23 55 10 22 18 57 38 20 60  7 42 14 51]\n"
     ]
    }
   ],
   "source": [
    "train_set, test_set = split_train_test(solar, 0.2)"
   ]
  },
  {
   "cell_type": "code",
   "execution_count": 8,
   "id": "114f663d",
   "metadata": {},
   "outputs": [
    {
     "name": "stdout",
     "output_type": "stream",
     "text": [
      "Rows in train set: 53\n",
      "Rows in test set: 13\n",
      "\n"
     ]
    }
   ],
   "source": [
    "print(f\"Rows in train set: {len(train_set)}\\nRows in test set: {len(test_set)}\\n\")"
   ]
  },
  {
   "cell_type": "code",
   "execution_count": 9,
   "id": "3289f103",
   "metadata": {},
   "outputs": [
    {
     "data": {
      "text/plain": [
       "(66, 9)"
      ]
     },
     "execution_count": 9,
     "metadata": {},
     "output_type": "execute_result"
    }
   ],
   "source": [
    "solar.shape"
   ]
  },
  {
   "cell_type": "code",
   "execution_count": 10,
   "id": "2dc577d5",
   "metadata": {},
   "outputs": [
    {
     "name": "stdout",
     "output_type": "stream",
     "text": [
      "Index(['System Size(KWp)', 'EB Tariff(RS/kwh)', 'System Cost',\n",
      "       'Generation/efficiency', 'Asset Management Cost(Inr/kwp)',\n",
      "       'Commission In Time (Y)', 'PPA Tenure(Y)', 'IRR', 'Solar_price'],\n",
      "      dtype='object')\n"
     ]
    }
   ],
   "source": [
    "print(solar.columns)"
   ]
  },
  {
   "cell_type": "code",
   "execution_count": 11,
   "id": "36cd3e34",
   "metadata": {},
   "outputs": [
    {
     "name": "stdout",
     "output_type": "stream",
     "text": [
      "   System Size(KWp)  EB Tariff(RS/kwh)  Generation/efficiency  System Cost  \\\n",
      "0             600.0               9.63                   1336        47136   \n",
      "1             830.0               7.09                   1380        47043   \n",
      "2             100.0               9.54                   1462        46658   \n",
      "3            1518.0              10.00                   1387        48399   \n",
      "4             102.0              16.76                   1387        55325   \n",
      "\n",
      "   Asset Management Cost(Inr/kwp)  Commission In Time (Y)  PPA Tenure(Y)  \\\n",
      "0                          450.00                   0.500             10   \n",
      "1                         1100.00                   0.500             25   \n",
      "2                          862.60                   0.333             15   \n",
      "3                         1144.27                   0.500             25   \n",
      "4                         2003.53                   0.333             10   \n",
      "\n",
      "     IRR  \n",
      "0  19.52  \n",
      "1  17.31  \n",
      "2  15.13  \n",
      "3  16.59  \n",
      "4  17.92  \n"
     ]
    }
   ],
   "source": [
    "features = [\"System Size(KWp)\", \"EB Tariff(RS/kwh)\", \"Generation/efficiency\", \"System Cost\", \"Asset Management Cost(Inr/kwp)\",\n",
    "            \"Commission In Time (Y)\", \"PPA Tenure(Y)\", \"IRR\"]\n",
    "x= solar[features]\n",
    "print(x.head())"
   ]
  },
  {
   "cell_type": "code",
   "execution_count": 13,
   "id": "b3206699",
   "metadata": {},
   "outputs": [
    {
     "name": "stdout",
     "output_type": "stream",
     "text": [
      "0    7.20\n",
      "1    5.30\n",
      "2    5.20\n",
      "3    4.90\n",
      "4    9.25\n",
      "Name: Solar_price, dtype: float64\n"
     ]
    }
   ],
   "source": [
    "y = solar['Solar_price']  \n",
    "print(y.head())"
   ]
  },
  {
   "cell_type": "code",
   "execution_count": 15,
   "id": "63da593a",
   "metadata": {},
   "outputs": [
    {
     "name": "stdout",
     "output_type": "stream",
     "text": [
      "Mean Squared Error: 0.4168023926109073\n"
     ]
    }
   ],
   "source": [
    "import pandas as pd\n",
    "from sklearn.model_selection import train_test_split\n",
    "from sklearn.linear_model import LinearRegression\n",
    "from sklearn.metrics import mean_squared_error\n",
    "\n",
    "# Load your data from the CSV file\n",
    "solar = pd.read_csv(\"ProTwo.csv\")\n",
    "\n",
    "# Define your features and target variable\n",
    "features = [\"System Size(KWp)\", \"EB Tariff(RS/kwh)\", \"Generation/efficiency\", \"System Cost\", \"Asset Management Cost(Inr/kwp)\",\n",
    "            \"Commission In Time (Y)\", \"PPA Tenure(Y)\", \"IRR\"]\n",
    "# Create input features (X) and target variable (y)\n",
    "X = solar[features]\n",
    "y = solar[\"Solar_price\"]\n",
    "\n",
    "# Split the data into training and testing sets (80% train, 20% test)\n",
    "X_train, X_test, y_train, y_test = train_test_split(X, y, test_size=0.2, random_state=42)\n",
    "\n",
    "# Initialize the Linear Regression model\n",
    "model = LinearRegression()\n",
    "\n",
    "# Train the model with the training data\n",
    "model.fit(X_train, y_train)\n",
    "\n",
    "# Make predictions using the test data\n",
    "predictions = model.predict(X_test)\n",
    "\n",
    "# Calculate and print the Mean Squared Error (MSE) to evaluate the model\n",
    "mse = mean_squared_error(y_test, predictions)\n",
    "print(\"Mean Squared Error:\", mse)\n",
    "\n",
    "# Now you can use the trained model to make predictions on new data\n",
    "# For example, if you have new input features in a variable called 'new_data':\n",
    "# new_predictions = model.predict(new_data)"
   ]
  },
  {
   "cell_type": "code",
   "execution_count": 16,
   "id": "fc205afd",
   "metadata": {},
   "outputs": [
    {
     "name": "stdout",
     "output_type": "stream",
     "text": [
      "Model Accuracy on Test Data: 0.7269508696621506\n"
     ]
    }
   ],
   "source": [
    "accuracy = model.score(X_test, y_test)\n",
    "print(\"Model Accuracy on Test Data:\", accuracy)"
   ]
  },
  {
   "cell_type": "code",
   "execution_count": 18,
   "id": "f07bb09f",
   "metadata": {},
   "outputs": [
    {
     "name": "stdout",
     "output_type": "stream",
     "text": [
      "Model Accuracy on Test Data: 0.7269508696621506\n",
      "[5.61602613]\n"
     ]
    },
    {
     "name": "stderr",
     "output_type": "stream",
     "text": [
      "C:\\Users\\Nishith\\anaconda3\\lib\\site-packages\\sklearn\\base.py:464: UserWarning: X does not have valid feature names, but LinearRegression was fitted with feature names\n",
      "  warnings.warn(\n"
     ]
    }
   ],
   "source": [
    "# Import necessary libraries\n",
    "import numpy as np\n",
    "import pandas as pd\n",
    "from sklearn.model_selection import train_test_split\n",
    "from sklearn.linear_model import LinearRegression\n",
    "import pickle\n",
    "\n",
    "\n",
    "solar = pd.read_csv('ProTwo.csv')\n",
    "\n",
    "# Define your features and target variable\n",
    "features = [\"System Size(KWp)\", \"EB Tariff(RS/kwh)\", \"Generation/efficiency\", \"System Cost\", \"Asset Management Cost(Inr/kwp)\",\n",
    "            \"Commission In Time (Y)\", \"PPA Tenure(Y)\", \"IRR\"]\n",
    "\n",
    "X = solar[features]  # Features\n",
    "y = solar['Solar_price']  # Target variable\n",
    "    \n",
    "# Split the data into training and testing sets\n",
    "X_train, X_test, y_train, y_test = train_test_split(X, y, test_size=0.2, random_state=42)\n",
    "\n",
    "# Initialize and train the model\n",
    "model = LinearRegression()\n",
    "model.fit(X_train, y_train)\n",
    "\n",
    "# Evaluate the model on the test data\n",
    "accuracy = model.score(X_test, y_test)\n",
    "print(f'Model Accuracy on Test Data: {accuracy}')\n",
    "\n",
    "# Save the trained model to a .pkl file\n",
    "with open('model.pkl', 'wb') as file:\n",
    "    pickle.dump(model, file)\n",
    "# Assume X_new represents your new data for prediction (features for which you want to predict solar prices)\n",
    "X_new = {\n",
    "    \"System Size(KWp)\": [1000],\n",
    "    \"EB Tariff(RS/kwh)\": [7.31],\n",
    "    \"Generation/efficiency\": [1513],\n",
    "    \"System Cost\": [53714],\n",
    "    \"Asset Management Cost(Inr/kwp)\": [1248.22],\n",
    "    \"Commission In Time (Y)\": [0.5],\n",
    "    \"PPA Tenure(Y)\": [20],\n",
    "    \"IRR\": [15.07],\n",
    "}\n",
    "\n",
    "# Convert the dictionary to a pandas DataFrame\n",
    "X_new = pd.DataFrame(X_new)\n",
    "\n",
    "# Make predictions using the loaded model\n",
    "predicted_solar_prices = model.predict(X_new.values.reshape(1, -1))\n",
    "\n",
    "# The variable 'predicted_solar_prices' now contains the predicted solar prices for the new data\n",
    "print(predicted_solar_prices)\n"
   ]
  },
  {
   "cell_type": "code",
   "execution_count": 22,
   "id": "fdd82a3c",
   "metadata": {},
   "outputs": [
    {
     "data": {
      "image/png": "[encoded data removed]",
      "text/plain": [
       "<Figure size 1200x1000 with 2 Axes>"
      ]
     },
     "metadata": {},
     "output_type": "display_data"
    }
   ],
   "source": [
    "# Import necessary libraries\n",
    "import pandas as pd\n",
    "import seaborn as sns\n",
    "import matplotlib.pyplot as plt\n",
    "\n",
    "# Load your dataset into a Pandas DataFrame\n",
    "# Replace 'your_dataset.csv' with the actual file path or data source\n",
    "solar = pd.read_csv('ProTwo.csv')\n",
    "\n",
    "# Compute the correlation matrix\n",
    "correlation_matrix = solar.corr()\n",
    "\n",
    "# Visualize the correlation matrix using a heatmap\n",
    "plt.figure(figsize=(12, 10))\n",
    "sns.heatmap(correlation_matrix, annot=True, cmap='coolwarm', fmt=\".2f\")\n",
    "plt.title('Correlation Matrix')\n",
    "plt.show()\n"
   ]
  },
  {
   "cell_type": "code",
   "execution_count": 23,
   "id": "b90fe74a",
   "metadata": {},
   "outputs": [
    {
     "data": {
      "text/plain": [
       "System Size(KWp)                  1.000000\n",
       "PPA Tenure(Y)                     0.383334\n",
       "Generation/efficiency             0.371385\n",
       "Commission In Time (Y)            0.358328\n",
       "IRR                              -0.168073\n",
       "EB Tariff(RS/kwh)                -0.256440\n",
       "System Cost                      -0.296848\n",
       "Asset Management Cost(Inr/kwp)   -0.311181\n",
       "Solar_price                      -0.373323\n",
       "Name: System Size(KWp), dtype: float64"
      ]
     },
     "execution_count": 23,
     "metadata": {},
     "output_type": "execute_result"
    }
   ],
   "source": [
    "corr_matrix = solar.corr()\n",
    "corr_matrix['System Size(KWp)'].sort_values(ascending=False)"
   ]
  },
  {
   "cell_type": "code",
   "execution_count": 25,
   "id": "ed6e2ff1",
   "metadata": {},
   "outputs": [
    {
     "name": "stdout",
     "output_type": "stream",
     "text": [
      "Predicted Tenure: 15.932161577487339\n",
      "Predicted Solar Price: 6.156439190596078\n"
     ]
    }
   ],
   "source": [
    "import pandas as pd\n",
    "from sklearn.model_selection import train_test_split\n",
    "from sklearn.multioutput import MultiOutputRegressor\n",
    "from sklearn.linear_model import LinearRegression\n",
    "import pickle\n",
    "\n",
    "# Load your dataset\n",
    "solar = pd.read_csv('ProTwo.csv')\n",
    "\n",
    "# Define your features and target variables\n",
    "features = [\"System Size(KWp)\", \"EB Tariff(RS/kwh)\", \"Generation/efficiency\", \"System Cost\", \"Asset Management Cost(Inr/kwp)\",\n",
    "            \"Commission In Time (Y)\", \"IRR\"]\n",
    "\n",
    "\n",
    "X = solar[features]  # Features\n",
    "y = solar[['PPA Tenure(Y)', 'Solar_price']]  # Target variables\n",
    "\n",
    "# Split the data into training and testing sets\n",
    "X_train, X_test, y_train, y_test = train_test_split(X, y, test_size=0.2, random_state=42)\n",
    "\n",
    "# Initialize the Linear Regression model\n",
    "base_model = LinearRegression()\n",
    "\n",
    "# Use MultiOutputRegressor with the Linear Regression model\n",
    "model = MultiOutputRegressor(base_model)\n",
    "\n",
    "# Train the model\n",
    "model.fit(X_train, y_train)\n",
    "\n",
    "# Save the trained model to a .pkl file\n",
    "with open('multioutput_regression_model.pkl', 'wb') as file:\n",
    "    pickle.dump(model, file)\n",
    "\n",
    "# Load the trained model\n",
    "with open('multioutput_regression_model.pkl', 'rb') as file:\n",
    "    model = pickle.load(file)\n",
    "\n",
    "# Assume X_new represents your new data for prediction\n",
    "X_new = {\n",
    "    \"System Size(KWp)\": [1000],\n",
    "    \"EB Tariff(RS/kwh)\": [7.31],\n",
    "    \"Generation/efficiency\": [1513],\n",
    "    \"System Cost\": [53714],\n",
    "    \"Asset Management Cost(Inr/kwp)\": [1248.22],\n",
    "    \"Commission In Time (Y)\": [0.5],\n",
    "    \"IRR\": [15.07],\n",
    "}\n",
    "\n",
    "# Convert the dictionary to a pandas DataFrame\n",
    "X_new = pd.DataFrame(X_new)\n",
    "\n",
    "# Make predictions using the loaded model\n",
    "predicted_values = model.predict(X_new)\n",
    "\n",
    "# Extract predicted tenure and solar price\n",
    "predicted_tenure, predicted_solar_price = predicted_values[:, 0], predicted_values[:, 1]\n",
    "\n",
    "print('Predicted Tenure:', predicted_tenure[0])\n",
    "print('Predicted Solar Price:', predicted_solar_price[0])\n"
   ]
  },
  {
   "cell_type": "code",
   "execution_count": 26,
   "id": "f4ee05a7",
   "metadata": {},
   "outputs": [
    {
     "name": "stdout",
     "output_type": "stream",
     "text": [
      "Predicted Values: [[ 6.15643919 15.93216158]]\n"
     ]
    }
   ],
   "source": [
    "import pandas as pd\n",
    "from sklearn.model_selection import train_test_split\n",
    "from sklearn.linear_model import LinearRegression\n",
    "from sklearn.multioutput import MultiOutputRegressor\n",
    "import pickle\n",
    "\n",
    "# Load your dataset\n",
    "solar = pd.read_csv('ProTwo.csv')\n",
    "\n",
    "# Define your features and target variables\n",
    "features = [\"System Size(KWp)\", \"EB Tariff(RS/kwh)\", \"Generation/efficiency\", \"System Cost\", \"Asset Management Cost(Inr/kwp)\",\n",
    "            \"Commission In Time (Y)\", \"IRR\"]\n",
    "\n",
    "X = solar[features]  # Features\n",
    "y = solar[['Solar_price', 'PPA Tenure(Y)']]  # Target variables\n",
    "\n",
    "# Split the data into training and testing sets\n",
    "X_train, X_test, y_train, y_test = train_test_split(X, y, test_size=0.2, random_state=42)\n",
    "\n",
    "# Initialize the Linear Regression model\n",
    "base_model = LinearRegression()\n",
    "\n",
    "# Use MultiOutputRegressor with the Linear Regression model\n",
    "model = MultiOutputRegressor(base_model)\n",
    "\n",
    "# Train the model\n",
    "model.fit(X_train, y_train)\n",
    "\n",
    "# Save the trained model to a .pkl file\n",
    "with open('multioutput_model.pkl', 'wb') as file:\n",
    "    pickle.dump(model, file)\n",
    "\n",
    "# Load the trained model\n",
    "with open('multioutput_model.pkl', 'rb') as file:\n",
    "    model = pickle.load(file)\n",
    "\n",
    "# Assume X_new represents your new data for prediction (features for which you want to predict solar prices and PPA Tenure)\n",
    "X_new = {\n",
    "    \"System Size(KWp)\": [1000],\n",
    "    \"EB Tariff(RS/kwh)\": [7.31],\n",
    "    \"Generation/efficiency\": [1513],\n",
    "    \"System Cost\": [53714],\n",
    "    \"Asset Management Cost(Inr/kwp)\": [1248.22],\n",
    "    \"Commission In Time (Y)\": [0.5],\n",
    "    \"IRR\": [15.07],\n",
    "}\n",
    "\n",
    "# Convert the dictionary to a pandas DataFrame\n",
    "X_new = pd.DataFrame(X_new)\n",
    "\n",
    "# Make predictions using the loaded model\n",
    "predicted_values = model.predict(X_new)\n",
    "\n",
    "# The variable 'predicted_values' now contains the predicted values for both Solar_price and PPA Tenure\n",
    "print('Predicted Values:', predicted_values)"
   ]
  },
  {
   "cell_type": "code",
   "execution_count": 27,
   "id": "77c7497e",
   "metadata": {},
   "outputs": [
    {
     "name": "stdout",
     "output_type": "stream",
     "text": [
      "Predicted Values: [[ 5.72871252 15.95580991]]\n"
     ]
    }
   ],
   "source": [
    "import pandas as pd\n",
    "from sklearn.model_selection import train_test_split\n",
    "from sklearn.linear_model import LinearRegression\n",
    "from sklearn.multioutput import MultiOutputRegressor\n",
    "import pickle\n",
    "\n",
    "# Load your dataset\n",
    "solar = pd.read_csv('ProTwo.csv')\n",
    "\n",
    "# Define your features and target variables\n",
    "features = [\"System Size(KWp)\", \"EB Tariff(RS/kwh)\", \"Generation/efficiency\", \"System Cost\", \"Asset Management Cost(Inr/kwp)\",\n",
    "            \"Commission In Time (Y)\", \"PPA Tenure(Y)\"]\n",
    "\n",
    "X = solar[features]  # Features\n",
    "y = solar[['Solar_price', 'IRR']]  # Target variables\n",
    "\n",
    "# Split the data into training and testing sets\n",
    "X_train, X_test, y_train, y_test = train_test_split(X, y, test_size=0.2, random_state=42)\n",
    "\n",
    "# Initialize the Linear Regression model\n",
    "base_model = LinearRegression()\n",
    "\n",
    "# Use MultiOutputRegressor with the Linear Regression model\n",
    "model = MultiOutputRegressor(base_model)\n",
    "\n",
    "# Train the model\n",
    "model.fit(X_train, y_train)\n",
    "\n",
    "# Save the trained model to a .pkl file\n",
    "with open('multioutput_model.pkl', 'wb') as file:\n",
    "    pickle.dump(model, file)\n",
    "\n",
    "# Load the trained model\n",
    "with open('multioutput_model.pkl', 'rb') as file:\n",
    "    model = pickle.load(file)\n",
    "\n",
    "# Assume X_new represents your new data for prediction (features for which you want to predict solar prices and PPA Tenure)\n",
    "X_new = {\n",
    "    \"System Size(KWp)\": [1000],\n",
    "    \"EB Tariff(RS/kwh)\": [7.31],\n",
    "    \"Generation/efficiency\": [1513],\n",
    "    \"System Cost\": [53714],\n",
    "    \"Asset Management Cost(Inr/kwp)\": [1248.22],\n",
    "    \"Commission In Time (Y)\": [0.5],\n",
    "    \"PPA Tenure(Y)\": [20],\n",
    "}\n",
    "\n",
    "# Convert the dictionary to a pandas DataFrame\n",
    "X_new = pd.DataFrame(X_new)\n",
    "\n",
    "# Make predictions using the loaded model\n",
    "predicted_values = model.predict(X_new)\n",
    "\n",
    "# The variable 'predicted_values' now contains the predicted values for both Solar_price and PPA Tenure\n",
    "print('Predicted Values:', predicted_values)"
   ]
  },
  {
   "cell_type": "code",
   "execution_count": 28,
   "id": "cfe99779",
   "metadata": {},
   "outputs": [
    {
     "name": "stdout",
     "output_type": "stream",
     "text": [
      "Predicted Values: [[ 6.45233808 16.48257699 15.05748482]]\n"
     ]
    }
   ],
   "source": [
    "import pandas as pd\n",
    "from sklearn.model_selection import train_test_split\n",
    "from sklearn.linear_model import LinearRegression\n",
    "from sklearn.multioutput import MultiOutputRegressor\n",
    "import pickle\n",
    "\n",
    "# Load your dataset\n",
    "solar = pd.read_csv('ProTwo.csv')\n",
    "\n",
    "# Define your features and target variables\n",
    "features = [\"System Size(KWp)\", \"EB Tariff(RS/kwh)\", \"Generation/efficiency\", \"System Cost\", \"Asset Management Cost(Inr/kwp)\",\n",
    "            \"Commission In Time (Y)\"]\n",
    "\n",
    "X = solar[features]  # Features\n",
    "y = solar[['Solar_price', 'IRR','PPA Tenure(Y)']]  # Target variables\n",
    "\n",
    "# Split the data into training and testing sets\n",
    "X_train, X_test, y_train, y_test = train_test_split(X, y, test_size=0.2, random_state=42)\n",
    "\n",
    "# Initialize the Linear Regression model\n",
    "base_model = LinearRegression()\n",
    "\n",
    "# Use MultiOutputRegressor with the Linear Regression model\n",
    "model = MultiOutputRegressor(base_model)\n",
    "\n",
    "# Train the model\n",
    "model.fit(X_train, y_train)\n",
    "\n",
    "# Save the trained model to a .pkl file\n",
    "with open('multioutput_model.pkl', 'wb') as file:\n",
    "    pickle.dump(model, file)\n",
    "\n",
    "# Load the trained model\n",
    "with open('multioutput_model.pkl', 'rb') as file:\n",
    "    model = pickle.load(file)\n",
    "\n",
    "# Assume X_new represents your new data for prediction (features for which you want to predict solar prices and PPA Tenure)\n",
    "X_new = {\n",
    "    \"System Size(KWp)\": [1000],\n",
    "    \"EB Tariff(RS/kwh)\": [7.31],\n",
    "    \"Generation/efficiency\": [1513],\n",
    "    \"System Cost\": [53714],\n",
    "    \"Asset Management Cost(Inr/kwp)\": [1248.22],\n",
    "    \"Commission In Time (Y)\": [0.5],\n",
    "}\n",
    "\n",
    "# Convert the dictionary to a pandas DataFrame\n",
    "X_new = pd.DataFrame(X_new)\n",
    "\n",
    "# Make predictions using the loaded model\n",
    "predicted_values = model.predict(X_new)\n",
    "\n",
    "# The variable 'predicted_values' now contains the predicted values for both Solar_price and PPA Tenure\n",
    "print('Predicted Values:', predicted_values)"
   ]
  },
  {
   "cell_type": "code",
   "execution_count": null,
   "id": "4b90e767",
   "metadata": {},
   "outputs": [],
   "source": []
  }
 ],
 "metadata": {
  "kernelspec": {
   "display_name": "Python 3 (ipykernel)",
   "language": "python",
   "name": "python3"
  },
  "language_info": {
   "codemirror_mode": {
    "name": "ipython",
    "version": 3
   },
   "file_extension": ".py",
   "mimetype": "text/x-python",
   "name": "python",
   "nbconvert_exporter": "python",
   "pygments_lexer": "ipython3",
   "version": "3.9.13"
  }
 },
 "nbformat": 4,
 "nbformat_minor": 5
}
